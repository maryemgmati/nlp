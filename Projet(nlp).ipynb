{
  "nbformat": 4,
  "nbformat_minor": 0,
  "metadata": {
    "colab": {
      "provenance": []
    },
    "kernelspec": {
      "name": "python3",
      "display_name": "Python 3"
    },
    "language_info": {
      "name": "python"
    }
  },
  "cells": [
    {
      "cell_type": "code",
      "execution_count": null,
      "metadata": {
        "colab": {
          "base_uri": "https://localhost:8080/"
        },
        "id": "X6CVUgiU1a9h",
        "outputId": "31fb7a99-b9f5-4835-9799-409bd8be3c3f"
      },
      "outputs": [
        {
          "output_type": "stream",
          "name": "stderr",
          "text": [
            "[nltk_data] Downloading package stopwords to /root/nltk_data...\n",
            "[nltk_data]   Unzipping corpora/stopwords.zip.\n"
          ]
        },
        {
          "output_type": "execute_result",
          "data": {
            "text/plain": [
              "True"
            ]
          },
          "metadata": {},
          "execution_count": 1
        }
      ],
      "source": [
        "import pandas as pd\n",
        "import numpy as np\n",
        "import re\n",
        "import nltk\n",
        "from sklearn.feature_extraction.text import TfidfVectorizer\n",
        "from nltk.corpus import stopwords\n",
        "\n",
        "nltk.download('stopwords')\n"
      ]
    },
    {
      "cell_type": "code",
      "source": [
        "# Charger le dataset depuis un fichier CSV\n",
        "df = pd.read_csv('/content/imdb_top_1000.csv')\n",
        "\n",
        "# Afficher les premières lignes pour inspecter les données\n",
        "print(df.head())\n"
      ],
      "metadata": {
        "colab": {
          "base_uri": "https://localhost:8080/"
        },
        "id": "wLCX_zXG1pLF",
        "outputId": "d087ee56-40c0-41fc-e08e-87975d6ea609"
      },
      "execution_count": null,
      "outputs": [
        {
          "output_type": "stream",
          "name": "stdout",
          "text": [
            "                                         Poster_Link  \\\n",
            "0  https://m.media-amazon.com/images/M/MV5BMDFkYT...   \n",
            "1  https://m.media-amazon.com/images/M/MV5BM2MyNj...   \n",
            "2  https://m.media-amazon.com/images/M/MV5BMTMxNT...   \n",
            "3  https://m.media-amazon.com/images/M/MV5BMWMwMG...   \n",
            "4  https://m.media-amazon.com/images/M/MV5BMWU4N2...   \n",
            "\n",
            "               Series_Title Released_Year Certificate  Runtime  \\\n",
            "0  The Shawshank Redemption          1994           A  142 min   \n",
            "1             The Godfather          1972           A  175 min   \n",
            "2           The Dark Knight          2008          UA  152 min   \n",
            "3    The Godfather: Part II          1974           A  202 min   \n",
            "4              12 Angry Men          1957           U   96 min   \n",
            "\n",
            "                  Genre  IMDB_Rating  \\\n",
            "0                 Drama          9.3   \n",
            "1          Crime, Drama          9.2   \n",
            "2  Action, Crime, Drama          9.0   \n",
            "3          Crime, Drama          9.0   \n",
            "4          Crime, Drama          9.0   \n",
            "\n",
            "                                            Overview  Meta_score  \\\n",
            "0  Two imprisoned men bond over a number of years...        80.0   \n",
            "1  An organized crime dynasty's aging patriarch t...       100.0   \n",
            "2  When the menace known as the Joker wreaks havo...        84.0   \n",
            "3  The early life and career of Vito Corleone in ...        90.0   \n",
            "4  A jury holdout attempts to prevent a miscarria...        96.0   \n",
            "\n",
            "               Director           Star1           Star2          Star3  \\\n",
            "0        Frank Darabont     Tim Robbins  Morgan Freeman     Bob Gunton   \n",
            "1  Francis Ford Coppola   Marlon Brando       Al Pacino     James Caan   \n",
            "2     Christopher Nolan  Christian Bale    Heath Ledger  Aaron Eckhart   \n",
            "3  Francis Ford Coppola       Al Pacino  Robert De Niro  Robert Duvall   \n",
            "4          Sidney Lumet     Henry Fonda     Lee J. Cobb  Martin Balsam   \n",
            "\n",
            "            Star4  No_of_Votes        Gross  \n",
            "0  William Sadler      2343110   28,341,469  \n",
            "1    Diane Keaton      1620367  134,966,411  \n",
            "2   Michael Caine      2303232  534,858,444  \n",
            "3    Diane Keaton      1129952   57,300,000  \n",
            "4    John Fiedler       689845    4,360,000  \n"
          ]
        }
      ]
    },
    {
      "cell_type": "code",
      "source": [
        "# Vérifier les valeurs manquantes\n",
        "print(df.isnull().sum())\n",
        "\n"
      ],
      "metadata": {
        "colab": {
          "base_uri": "https://localhost:8080/"
        },
        "id": "KJcwu-wk17qY",
        "outputId": "19d9d911-f4d1-4f4c-af7d-dc3aee60728a"
      },
      "execution_count": null,
      "outputs": [
        {
          "output_type": "stream",
          "name": "stdout",
          "text": [
            "Poster_Link        0\n",
            "Series_Title       0\n",
            "Released_Year      0\n",
            "Certificate      101\n",
            "Runtime            0\n",
            "Genre              0\n",
            "IMDB_Rating        0\n",
            "Overview           0\n",
            "Meta_score       157\n",
            "Director           0\n",
            "Star1              0\n",
            "Star2              0\n",
            "Star3              0\n",
            "Star4              0\n",
            "No_of_Votes        0\n",
            "Gross            169\n",
            "dtype: int64\n"
          ]
        }
      ]
    },
    {
      "cell_type": "code",
      "source": [
        "print(df.columns)\n"
      ],
      "metadata": {
        "colab": {
          "base_uri": "https://localhost:8080/"
        },
        "id": "p2VBowOS29ex",
        "outputId": "0e17b7cb-dad8-4cf5-8104-3a8aa75afbe4"
      },
      "execution_count": null,
      "outputs": [
        {
          "output_type": "stream",
          "name": "stdout",
          "text": [
            "Index(['Poster_Link', 'Series_Title', 'Released_Year', 'Certificate',\n",
            "       'Runtime', 'Genre', 'IMDB_Rating', 'Overview', 'Meta_score', 'Director',\n",
            "       'Star1', 'Star2', 'Star3', 'Star4', 'No_of_Votes', 'Gross'],\n",
            "      dtype='object')\n"
          ]
        }
      ]
    },
    {
      "cell_type": "code",
      "source": [
        "# Supprimer les lignes avec des valeurs manquantes dans les colonnes 'Overview' et 'Series_Title'\n",
        "df = df.dropna(subset=['Overview', 'Series_Title'])\n"
      ],
      "metadata": {
        "id": "NX-ey0dl3L9d"
      },
      "execution_count": null,
      "outputs": []
    },
    {
      "cell_type": "code",
      "source": [
        "import re\n",
        "\n",
        "# Fonction de nettoyage des résumés\n",
        "def clean_text(text):\n",
        "    text = text.lower()  # Mettre en minuscules\n",
        "    text = re.sub(r'http\\S+', '', text)  # Supprimer les URL\n",
        "    text = re.sub(r'[^a-zA-Z\\s]', '', text)  # Supprimer les caractères non alphabétiques\n",
        "    text = re.sub(r'\\s+', ' ', text)  # Remplacer les espaces multiples par un seul\n",
        "    return text\n",
        "\n",
        "# Appliquer la fonction de nettoyage sur la colonne 'Overview'\n",
        "df['Overview'] = df['Overview'].apply(clean_text)\n"
      ],
      "metadata": {
        "id": "vLVdwABo3QB9"
      },
      "execution_count": null,
      "outputs": []
    },
    {
      "cell_type": "code",
      "source": [
        "from sklearn.feature_extraction.text import TfidfVectorizer\n",
        "\n",
        "# Initialiser le TF-IDF Vectorizer\n",
        "tfidf = TfidfVectorizer(max_features=5000, stop_words='english')\n",
        "\n",
        "# Appliquer le vectorizer sur la colonne 'Overview' pour créer une matrice de caractéristiques\n",
        "X = tfidf.fit_transform(df['Overview'])\n",
        "\n",
        "# Afficher la forme de la matrice TF-IDF\n",
        "print(X.shape)\n"
      ],
      "metadata": {
        "colab": {
          "base_uri": "https://localhost:8080/"
        },
        "id": "LAboc8Cm3S7P",
        "outputId": "bc51d847-a44b-4d93-ac79-0d4e56694cbf"
      },
      "execution_count": null,
      "outputs": [
        {
          "output_type": "stream",
          "name": "stdout",
          "text": [
            "(1000, 5000)\n"
          ]
        }
      ]
    },
    {
      "cell_type": "code",
      "source": [
        "# Supprimer les colonnes non nécessaires\n",
        "df = df.drop(columns=['Poster_Link', 'Meta_score', 'Star1', 'Star2', 'Star3', 'Star4'])\n"
      ],
      "metadata": {
        "id": "6ax4Q2mv3WMC"
      },
      "execution_count": null,
      "outputs": []
    },
    {
      "cell_type": "code",
      "source": [
        "# Vérifier les premières lignes pour s'assurer que le nettoyage est effectué correctement\n",
        "print(df.head())\n",
        "\n",
        "\n",
        "df.to_csv('imdb_movies_cleaned.csv', index=False)\n"
      ],
      "metadata": {
        "colab": {
          "base_uri": "https://localhost:8080/"
        },
        "id": "PePNZcWj3ZXs",
        "outputId": "e6c95a97-5fc1-41ea-a640-356ac32e6ed1"
      },
      "execution_count": null,
      "outputs": [
        {
          "output_type": "stream",
          "name": "stdout",
          "text": [
            "               Series_Title Released_Year Certificate  Runtime  \\\n",
            "0  The Shawshank Redemption          1994           A  142 min   \n",
            "1             The Godfather          1972           A  175 min   \n",
            "2           The Dark Knight          2008          UA  152 min   \n",
            "3    The Godfather: Part II          1974           A  202 min   \n",
            "4              12 Angry Men          1957           U   96 min   \n",
            "\n",
            "                  Genre  IMDB_Rating  \\\n",
            "0                 Drama          9.3   \n",
            "1          Crime, Drama          9.2   \n",
            "2  Action, Crime, Drama          9.0   \n",
            "3          Crime, Drama          9.0   \n",
            "4          Crime, Drama          9.0   \n",
            "\n",
            "                                            Overview              Director  \\\n",
            "0  two imprisoned men bond over a number of years...        Frank Darabont   \n",
            "1  an organized crime dynastys aging patriarch tr...  Francis Ford Coppola   \n",
            "2  when the menace known as the joker wreaks havo...     Christopher Nolan   \n",
            "3  the early life and career of vito corleone in ...  Francis Ford Coppola   \n",
            "4  a jury holdout attempts to prevent a miscarria...          Sidney Lumet   \n",
            "\n",
            "   No_of_Votes        Gross  \n",
            "0      2343110   28,341,469  \n",
            "1      1620367  134,966,411  \n",
            "2      2303232  534,858,444  \n",
            "3      1129952   57,300,000  \n",
            "4       689845    4,360,000  \n"
          ]
        }
      ]
    },
    {
      "cell_type": "code",
      "source": [
        "import re\n",
        "\n",
        "def clean_text(text):\n",
        "    # Convertir en minuscules\n",
        "    text = text.lower()\n",
        "    # Supprimer les URL\n",
        "    text = re.sub(r'http\\S+', '', text)\n",
        "    # Supprimer les caractères non alphabétiques (sauf les espaces)\n",
        "    text = re.sub(r'[^a-zA-Z\\s]', '', text)\n",
        "    # Remplacer les espaces multiples par un seul\n",
        "    text = re.sub(r'\\s+', ' ', text)\n",
        "    return text\n",
        "\n",
        "# Appliquer le nettoyage sur la colonne 'Overview'\n",
        "df['Overview'] = df['Overview'].apply(clean_text)\n"
      ],
      "metadata": {
        "id": "2XsVn3rX9ldP"
      },
      "execution_count": null,
      "outputs": []
    },
    {
      "cell_type": "code",
      "source": [
        "import nltk\n",
        "from nltk.corpus import stopwords\n",
        "\n",
        "# Télécharger les stop words de NLTK\n",
        "nltk.download('stopwords')\n",
        "\n",
        "# Créer une fonction pour supprimer les stopwords\n",
        "def remove_stopwords(text):\n",
        "    stop_words = set(stopwords.words('english'))\n",
        "    tokens = text.split()\n",
        "    tokens_cleaned = [word for word in tokens if word not in stop_words]\n",
        "    return \" \".join(tokens_cleaned)\n",
        "\n",
        "# Appliquer la suppression des stopwords sur la colonne 'Overview'\n",
        "df['Overview'] = df['Overview'].apply(remove_stopwords)\n"
      ],
      "metadata": {
        "colab": {
          "base_uri": "https://localhost:8080/"
        },
        "id": "OQi8yl4l9ovH",
        "outputId": "023bc4e6-4e86-490d-dcc4-b0e99af96d90"
      },
      "execution_count": null,
      "outputs": [
        {
          "output_type": "stream",
          "name": "stderr",
          "text": [
            "[nltk_data] Downloading package stopwords to /root/nltk_data...\n",
            "[nltk_data]   Package stopwords is already up-to-date!\n"
          ]
        }
      ]
    },
    {
      "cell_type": "code",
      "source": [
        "from sklearn.feature_extraction.text import TfidfVectorizer\n",
        "\n",
        "# Initialisation du TF-IDF Vectorizer\n",
        "tfidf_vectorizer = TfidfVectorizer(max_features=5000, stop_words='english')\n",
        "\n",
        "# Appliquer le TF-IDF pour transformer les résumés en vecteurs\n",
        "tfidf_matrix = tfidf_vectorizer.fit_transform(df['Overview'])\n",
        "\n",
        "# Afficher la forme de la matrice TF-IDF pour vérifier\n",
        "print(tfidf_matrix.shape)\n"
      ],
      "metadata": {
        "colab": {
          "base_uri": "https://localhost:8080/"
        },
        "id": "aWkkXWoM95Fe",
        "outputId": "e9336cb7-682a-46c6-cb54-d03a395b1912"
      },
      "execution_count": null,
      "outputs": [
        {
          "output_type": "stream",
          "name": "stdout",
          "text": [
            "(1000, 5000)\n"
          ]
        }
      ]
    },
    {
      "cell_type": "code",
      "source": [
        "# Convertir les évaluations IMDb en nombres flottants\n",
        "df['IMDB_Rating'] = pd.to_numeric(df['IMDB_Rating'], errors='coerce')\n",
        "\n",
        "# Supprimer les films avec des évaluations manquantes\n",
        "df = df.dropna(subset=['IMDB_Rating'])\n",
        "\n",
        "# Filtrer les films avec des évaluations supérieures à un certain seuil (par exemple, > 7)\n",
        "df = df[df['IMDB_Rating'] > 7]\n"
      ],
      "metadata": {
        "id": "ps9Gvdo4982J"
      },
      "execution_count": null,
      "outputs": []
    },
    {
      "cell_type": "code",
      "source": [
        "# Encodage des genres en one-hot\n",
        "genre_dummies = df['Genre'].str.get_dummies(', ')  # Si les genres sont séparés par des virgules\n",
        "df = pd.concat([df, genre_dummies], axis=1)\n",
        "\n",
        "# Encodage du certificat de film\n",
        "df['Certificate'] = df['Certificate'].astype('category').cat.codes\n"
      ],
      "metadata": {
        "id": "4WWwtk0O-IVS"
      },
      "execution_count": null,
      "outputs": []
    },
    {
      "cell_type": "code",
      "source": [
        "# Nettoyer la colonne 'Gross' en supprimant les caractères non numériques\n",
        "df['Gross'] = df['Gross'].apply(lambda x: re.sub(r'[^\\d.]', '', str(x)))\n",
        "\n",
        "# Convertir la colonne 'Gross' en numérique\n",
        "df['Gross'] = pd.to_numeric(df['Gross'], errors='coerce')\n",
        "\n",
        "# Remplir les valeurs manquantes dans 'Gross' par la moyenne\n",
        "df['Gross'] = df['Gross'].fillna(df['Gross'].mean())\n"
      ],
      "metadata": {
        "id": "P18rk1Dl-mCm"
      },
      "execution_count": null,
      "outputs": []
    },
    {
      "cell_type": "code",
      "source": [
        "# Convertir la colonne 'IMDB_Rating' en numérique et supprimer les lignes avec des valeurs manquantes\n",
        "df['IMDB_Rating'] = pd.to_numeric(df['IMDB_Rating'], errors='coerce')\n",
        "df = df.dropna(subset=['IMDB_Rating'])\n",
        "\n",
        "# Encodage des genres en one-hot\n",
        "genre_dummies = df['Genre'].str.get_dummies(', ')  # Si les genres sont séparés par des virgules\n",
        "df = pd.concat([df, genre_dummies], axis=1)\n",
        "\n",
        "# Encodage du certificat de film\n",
        "df['Certificate'] = df['Certificate'].astype('category').cat.codes\n",
        "\n",
        "# Supprimer les lignes avec des valeurs manquantes\n",
        "df = df.dropna()\n",
        "\n",
        "# Vérifier les premières lignes après le prétraitement\n",
        "print(df.head())"
      ],
      "metadata": {
        "colab": {
          "base_uri": "https://localhost:8080/"
        },
        "id": "J_VXm2-j_SZB",
        "outputId": "bace67b3-c263-4f29-d3c0-84e4ca3c824f"
      },
      "execution_count": null,
      "outputs": [
        {
          "output_type": "stream",
          "name": "stdout",
          "text": [
            "               Series_Title Released_Year  Certificate  Runtime  \\\n",
            "0  The Shawshank Redemption          1994            2  142 min   \n",
            "1             The Godfather          1972            2  175 min   \n",
            "2           The Dark Knight          2008           15  152 min   \n",
            "3    The Godfather: Part II          1974            2  202 min   \n",
            "4              12 Angry Men          1957           13   96 min   \n",
            "\n",
            "                  Genre  IMDB_Rating  \\\n",
            "0                 Drama          9.3   \n",
            "1          Crime, Drama          9.2   \n",
            "2  Action, Crime, Drama          9.0   \n",
            "3          Crime, Drama          9.0   \n",
            "4          Crime, Drama          9.0   \n",
            "\n",
            "                                            Overview              Director  \\\n",
            "0  two imprisoned men bond number years finding s...        Frank Darabont   \n",
            "1  organized crime dynastys aging patriarch trans...  Francis Ford Coppola   \n",
            "2  menace known joker wreaks havoc chaos people g...     Christopher Nolan   \n",
            "3  early life career vito corleone new york city ...  Francis Ford Coppola   \n",
            "4  jury holdout attempts prevent miscarriage just...          Sidney Lumet   \n",
            "\n",
            "   No_of_Votes        Gross  ...  Horror  Music  Musical  Mystery  Romance  \\\n",
            "0      2343110   28341469.0  ...       0      0        0        0        0   \n",
            "1      1620367  134966411.0  ...       0      0        0        0        0   \n",
            "2      2303232  534858444.0  ...       0      0        0        0        0   \n",
            "3      1129952   57300000.0  ...       0      0        0        0        0   \n",
            "4       689845    4360000.0  ...       0      0        0        0        0   \n",
            "\n",
            "   Sci-Fi  Sport  Thriller  War  Western  \n",
            "0       0      0         0    0        0  \n",
            "1       0      0         0    0        0  \n",
            "2       0      0         0    0        0  \n",
            "3       0      0         0    0        0  \n",
            "4       0      0         0    0        0  \n",
            "\n",
            "[5 rows x 52 columns]\n"
          ]
        }
      ]
    },
    {
      "cell_type": "code",
      "source": [
        "from sklearn.feature_extraction.text import TfidfVectorizer\n",
        "\n",
        "# Instantiate the TfidfVectorizer\n",
        "tfidf_vectorizer = TfidfVectorizer(max_features=5000, stop_words='english')\n",
        "\n",
        "# Fit and transform the 'Overview' column into a TF-IDF matrix\n",
        "tfidf_matrix = tfidf_vectorizer.fit_transform(df['Overview'])\n",
        "\n",
        "# Convert the sparse matrix to a dense matrix and then to a DataFrame for easier inspection\n",
        "tfidf_df = pd.DataFrame(tfidf_matrix.toarray(), columns=tfidf_vectorizer.get_feature_names_out())\n",
        "\n",
        "# Check the shape and the first few words in the matrix\n",
        "print(tfidf_df.shape)  # Should print the number of movies by number of features (words)\n",
        "print(tfidf_df.head())\n"
      ],
      "metadata": {
        "colab": {
          "base_uri": "https://localhost:8080/"
        },
        "id": "1j6sC66XBCVL",
        "outputId": "c8ae42c7-c083-4c3d-9e9f-3e37fe77752e"
      },
      "execution_count": null,
      "outputs": [
        {
          "output_type": "stream",
          "name": "stdout",
          "text": [
            "(1000, 5000)\n",
            "   abandoned  abandons  abbey  abducted  abductions  abductor  aberration  \\\n",
            "0        0.0       0.0    0.0       0.0         0.0       0.0         0.0   \n",
            "1        0.0       0.0    0.0       0.0         0.0       0.0         0.0   \n",
            "2        0.0       0.0    0.0       0.0         0.0       0.0         0.0   \n",
            "3        0.0       0.0    0.0       0.0         0.0       0.0         0.0   \n",
            "4        0.0       0.0    0.0       0.0         0.0       0.0         0.0   \n",
            "\n",
            "   abilities  ability  abkhazia  ...  zare  zealand  zealander  zero  zodiac  \\\n",
            "0        0.0  0.00000       0.0  ...   0.0      0.0        0.0   0.0     0.0   \n",
            "1        0.0  0.00000       0.0  ...   0.0      0.0        0.0   0.0     0.0   \n",
            "2        0.0  0.27671       0.0  ...   0.0      0.0        0.0   0.0     0.0   \n",
            "3        0.0  0.00000       0.0  ...   0.0      0.0        0.0   0.0     0.0   \n",
            "4        0.0  0.00000       0.0  ...   0.0      0.0        0.0   0.0     0.0   \n",
            "\n",
            "   zombie  zombiefilled  zombies  zone  zorg  \n",
            "0     0.0           0.0      0.0   0.0   0.0  \n",
            "1     0.0           0.0      0.0   0.0   0.0  \n",
            "2     0.0           0.0      0.0   0.0   0.0  \n",
            "3     0.0           0.0      0.0   0.0   0.0  \n",
            "4     0.0           0.0      0.0   0.0   0.0  \n",
            "\n",
            "[5 rows x 5000 columns]\n"
          ]
        }
      ]
    },
    {
      "cell_type": "code",
      "source": [
        "from sklearn.metrics.pairwise import cosine_similarity\n",
        "\n",
        "# Calculate the cosine similarity between all movie pairs\n",
        "cosine_sim = cosine_similarity(tfidf_matrix, tfidf_matrix)\n",
        "\n",
        "# Check the similarity between the first movie and the rest\n",
        "print(cosine_sim[0])  # Similarity of the first movie with all other movies\n"
      ],
      "metadata": {
        "colab": {
          "base_uri": "https://localhost:8080/"
        },
        "id": "cPdW_AlRBRJk",
        "outputId": "6b6ed9fb-18eb-469e-cae4-e7413136ff4f"
      },
      "execution_count": null,
      "outputs": [
        {
          "output_type": "stream",
          "name": "stdout",
          "text": [
            "[1.         0.         0.         0.         0.         0.04229647\n",
            " 0.07116109 0.         0.         0.         0.         0.\n",
            " 0.04876836 0.         0.         0.         0.         0.\n",
            " 0.         0.         0.09285806 0.         0.         0.\n",
            " 0.         0.         0.         0.         0.         0.\n",
            " 0.         0.         0.         0.         0.         0.\n",
            " 0.         0.         0.         0.         0.         0.\n",
            " 0.         0.         0.         0.         0.         0.0321553\n",
            " 0.         0.         0.         0.         0.         0.\n",
            " 0.         0.         0.         0.         0.         0.\n",
            " 0.         0.         0.         0.0357133  0.         0.\n",
            " 0.         0.         0.1657847  0.         0.         0.03808434\n",
            " 0.         0.         0.         0.         0.         0.\n",
            " 0.         0.         0.         0.         0.         0.\n",
            " 0.03720303 0.         0.         0.         0.         0.\n",
            " 0.         0.03598648 0.         0.         0.         0.\n",
            " 0.         0.         0.         0.         0.         0.\n",
            " 0.         0.         0.         0.07611017 0.0305675  0.\n",
            " 0.         0.         0.         0.         0.         0.07699185\n",
            " 0.         0.         0.         0.         0.         0.\n",
            " 0.         0.         0.         0.         0.         0.\n",
            " 0.         0.         0.         0.04280169 0.         0.\n",
            " 0.         0.         0.         0.         0.         0.\n",
            " 0.         0.         0.         0.         0.         0.\n",
            " 0.         0.         0.         0.         0.         0.\n",
            " 0.         0.         0.         0.         0.         0.\n",
            " 0.         0.         0.         0.         0.05822208 0.\n",
            " 0.         0.04981514 0.         0.         0.         0.\n",
            " 0.         0.         0.         0.         0.         0.\n",
            " 0.05554222 0.         0.         0.         0.         0.11779876\n",
            " 0.         0.         0.         0.         0.         0.\n",
            " 0.06766113 0.         0.         0.         0.         0.\n",
            " 0.         0.         0.         0.         0.         0.10604737\n",
            " 0.         0.         0.         0.         0.         0.03611044\n",
            " 0.         0.         0.         0.         0.         0.07017613\n",
            " 0.         0.         0.         0.         0.         0.\n",
            " 0.         0.         0.         0.         0.         0.\n",
            " 0.         0.         0.         0.         0.         0.\n",
            " 0.         0.         0.         0.         0.         0.\n",
            " 0.         0.         0.         0.04982922 0.         0.\n",
            " 0.         0.         0.         0.         0.         0.\n",
            " 0.         0.         0.         0.         0.         0.\n",
            " 0.         0.11023897 0.         0.         0.         0.06545721\n",
            " 0.         0.         0.         0.         0.         0.\n",
            " 0.03408949 0.         0.         0.         0.         0.04001702\n",
            " 0.         0.         0.         0.         0.         0.\n",
            " 0.         0.         0.         0.         0.         0.\n",
            " 0.         0.         0.         0.         0.         0.\n",
            " 0.04606268 0.         0.         0.         0.         0.\n",
            " 0.07341867 0.         0.         0.         0.         0.\n",
            " 0.         0.         0.         0.         0.         0.\n",
            " 0.0491474  0.         0.         0.         0.         0.\n",
            " 0.         0.         0.         0.06550137 0.         0.\n",
            " 0.         0.         0.         0.         0.         0.\n",
            " 0.         0.         0.         0.         0.03546622 0.\n",
            " 0.         0.         0.         0.         0.         0.\n",
            " 0.         0.         0.         0.         0.03089351 0.\n",
            " 0.         0.         0.         0.         0.         0.\n",
            " 0.         0.         0.17343991 0.         0.         0.\n",
            " 0.         0.         0.         0.         0.         0.\n",
            " 0.         0.         0.         0.         0.         0.\n",
            " 0.         0.         0.09877018 0.         0.         0.04004143\n",
            " 0.         0.         0.         0.         0.         0.\n",
            " 0.         0.         0.         0.         0.         0.\n",
            " 0.         0.         0.         0.         0.         0.\n",
            " 0.         0.         0.         0.         0.         0.\n",
            " 0.         0.         0.         0.         0.         0.\n",
            " 0.         0.         0.         0.         0.         0.\n",
            " 0.05541039 0.         0.         0.         0.         0.\n",
            " 0.         0.         0.         0.         0.         0.\n",
            " 0.         0.         0.         0.         0.         0.\n",
            " 0.         0.         0.         0.         0.         0.\n",
            " 0.         0.         0.         0.         0.         0.\n",
            " 0.         0.         0.         0.         0.         0.\n",
            " 0.         0.         0.         0.         0.         0.\n",
            " 0.0535989  0.         0.         0.         0.         0.\n",
            " 0.         0.         0.         0.         0.         0.\n",
            " 0.         0.         0.         0.         0.         0.\n",
            " 0.         0.         0.         0.         0.         0.06049706\n",
            " 0.         0.         0.         0.         0.04004906 0.\n",
            " 0.06602717 0.         0.         0.04937013 0.         0.\n",
            " 0.         0.         0.         0.         0.         0.\n",
            " 0.         0.         0.         0.         0.         0.\n",
            " 0.         0.         0.         0.         0.         0.\n",
            " 0.         0.07485455 0.         0.         0.06211311 0.\n",
            " 0.         0.         0.         0.         0.         0.\n",
            " 0.         0.         0.         0.         0.         0.\n",
            " 0.         0.         0.         0.         0.         0.\n",
            " 0.03478283 0.         0.         0.         0.         0.\n",
            " 0.         0.         0.         0.         0.         0.\n",
            " 0.         0.         0.         0.         0.         0.\n",
            " 0.         0.0477262  0.         0.         0.         0.\n",
            " 0.         0.         0.         0.02690371 0.         0.\n",
            " 0.         0.         0.         0.         0.         0.\n",
            " 0.         0.         0.         0.         0.         0.\n",
            " 0.         0.         0.         0.         0.         0.0396413\n",
            " 0.         0.         0.         0.         0.         0.\n",
            " 0.         0.         0.         0.         0.         0.\n",
            " 0.         0.         0.         0.         0.0592073  0.\n",
            " 0.         0.         0.         0.         0.         0.\n",
            " 0.         0.         0.         0.04191176 0.03466897 0.\n",
            " 0.         0.         0.         0.         0.03995288 0.05165534\n",
            " 0.         0.         0.         0.         0.         0.\n",
            " 0.         0.         0.         0.         0.         0.\n",
            " 0.         0.         0.         0.         0.         0.\n",
            " 0.         0.         0.03001947 0.         0.         0.\n",
            " 0.         0.         0.         0.         0.         0.\n",
            " 0.0776574  0.         0.         0.         0.         0.\n",
            " 0.         0.         0.         0.         0.         0.\n",
            " 0.         0.         0.         0.         0.         0.\n",
            " 0.         0.03519477 0.04197593 0.         0.         0.\n",
            " 0.         0.         0.         0.         0.         0.04221681\n",
            " 0.         0.         0.         0.         0.         0.\n",
            " 0.         0.         0.05788218 0.         0.         0.11126553\n",
            " 0.         0.         0.         0.         0.         0.04728844\n",
            " 0.         0.         0.         0.         0.         0.\n",
            " 0.         0.04364352 0.         0.08206969 0.         0.\n",
            " 0.         0.         0.         0.         0.         0.\n",
            " 0.         0.03294206 0.         0.         0.         0.\n",
            " 0.         0.         0.         0.         0.         0.\n",
            " 0.         0.         0.         0.         0.         0.\n",
            " 0.         0.06012602 0.         0.         0.         0.\n",
            " 0.         0.         0.         0.         0.         0.\n",
            " 0.         0.         0.         0.         0.         0.\n",
            " 0.         0.         0.         0.         0.         0.\n",
            " 0.         0.         0.         0.         0.         0.\n",
            " 0.         0.         0.         0.         0.         0.\n",
            " 0.         0.         0.         0.         0.         0.\n",
            " 0.         0.         0.         0.         0.         0.0563597\n",
            " 0.         0.0753342  0.         0.         0.         0.\n",
            " 0.07301339 0.         0.         0.         0.         0.\n",
            " 0.         0.         0.         0.         0.         0.0730818\n",
            " 0.         0.         0.         0.         0.         0.\n",
            " 0.         0.         0.         0.09265923 0.         0.\n",
            " 0.         0.         0.         0.         0.         0.\n",
            " 0.03502412 0.         0.         0.         0.         0.\n",
            " 0.         0.         0.         0.07016006 0.         0.\n",
            " 0.         0.         0.         0.         0.         0.\n",
            " 0.         0.02421226 0.         0.         0.         0.\n",
            " 0.         0.         0.         0.         0.         0.\n",
            " 0.         0.         0.         0.         0.03479587 0.\n",
            " 0.         0.04771342 0.         0.         0.         0.\n",
            " 0.         0.         0.         0.         0.         0.\n",
            " 0.         0.         0.         0.06104229 0.         0.\n",
            " 0.         0.         0.         0.         0.10550277 0.\n",
            " 0.         0.         0.         0.         0.         0.\n",
            " 0.         0.         0.         0.03386155 0.         0.\n",
            " 0.         0.         0.         0.         0.         0.\n",
            " 0.         0.         0.         0.         0.         0.\n",
            " 0.         0.         0.         0.         0.         0.\n",
            " 0.         0.         0.         0.         0.         0.\n",
            " 0.         0.         0.         0.04151745 0.         0.\n",
            " 0.         0.         0.         0.         0.         0.0779033\n",
            " 0.         0.         0.         0.         0.         0.\n",
            " 0.         0.         0.04291601 0.         0.05871584 0.\n",
            " 0.         0.         0.         0.         0.         0.\n",
            " 0.         0.         0.         0.         0.         0.\n",
            " 0.         0.         0.         0.         0.         0.\n",
            " 0.         0.         0.         0.         0.07532573 0.\n",
            " 0.         0.         0.         0.         0.05000088 0.\n",
            " 0.03061461 0.         0.         0.         0.         0.\n",
            " 0.         0.         0.         0.         0.         0.\n",
            " 0.         0.         0.         0.04534256 0.         0.\n",
            " 0.         0.         0.         0.         0.         0.\n",
            " 0.         0.04370796 0.         0.         0.         0.\n",
            " 0.         0.         0.         0.         0.         0.\n",
            " 0.         0.         0.         0.        ]\n"
          ]
        }
      ]
    },
    {
      "cell_type": "code",
      "source": [
        "\n",
        "\n",
        "\n",
        "\n",
        "\n",
        "\n",
        "from sklearn.metrics.pairwise import cosine_similarity\n",
        "import numpy as np\n",
        "\n",
        "# Supposons que 'tfidf_matrix' est la matrice résultante de la vectorisation des résumés (comme défini dans les étapes précédentes)\n",
        "\n",
        "# Calculer la similarité cosinus entre tous les films\n",
        "cosine_sim = cosine_similarity(tfidf_matrix, tfidf_matrix)\n",
        "\n",
        "# Vérifier la forme de la matrice de similarité\n",
        "print(cosine_sim.shape)  # La taille devrait être (nombre de films, nombre de films)\n",
        "\n",
        "# Exemple : calculer la similarité entre le premier film et tous les autres\n",
        "print(cosine_sim[0])  # Cela renverra un tableau des similarités du film 0 avec tous les autres films\n"
      ],
      "metadata": {
        "colab": {
          "base_uri": "https://localhost:8080/"
        },
        "id": "FB3nmnSJDMCI",
        "outputId": "d2dca68b-a6e9-4b16-9039-2d19a8fd57fb"
      },
      "execution_count": null,
      "outputs": [
        {
          "output_type": "stream",
          "name": "stdout",
          "text": [
            "(1000, 1000)\n",
            "[1.         0.         0.         0.         0.         0.04229647\n",
            " 0.07116109 0.         0.         0.         0.         0.\n",
            " 0.04876836 0.         0.         0.         0.         0.\n",
            " 0.         0.         0.09285806 0.         0.         0.\n",
            " 0.         0.         0.         0.         0.         0.\n",
            " 0.         0.         0.         0.         0.         0.\n",
            " 0.         0.         0.         0.         0.         0.\n",
            " 0.         0.         0.         0.         0.         0.0321553\n",
            " 0.         0.         0.         0.         0.         0.\n",
            " 0.         0.         0.         0.         0.         0.\n",
            " 0.         0.         0.         0.0357133  0.         0.\n",
            " 0.         0.         0.1657847  0.         0.         0.03808434\n",
            " 0.         0.         0.         0.         0.         0.\n",
            " 0.         0.         0.         0.         0.         0.\n",
            " 0.03720303 0.         0.         0.         0.         0.\n",
            " 0.         0.03598648 0.         0.         0.         0.\n",
            " 0.         0.         0.         0.         0.         0.\n",
            " 0.         0.         0.         0.07611017 0.0305675  0.\n",
            " 0.         0.         0.         0.         0.         0.07699185\n",
            " 0.         0.         0.         0.         0.         0.\n",
            " 0.         0.         0.         0.         0.         0.\n",
            " 0.         0.         0.         0.04280169 0.         0.\n",
            " 0.         0.         0.         0.         0.         0.\n",
            " 0.         0.         0.         0.         0.         0.\n",
            " 0.         0.         0.         0.         0.         0.\n",
            " 0.         0.         0.         0.         0.         0.\n",
            " 0.         0.         0.         0.         0.05822208 0.\n",
            " 0.         0.04981514 0.         0.         0.         0.\n",
            " 0.         0.         0.         0.         0.         0.\n",
            " 0.05554222 0.         0.         0.         0.         0.11779876\n",
            " 0.         0.         0.         0.         0.         0.\n",
            " 0.06766113 0.         0.         0.         0.         0.\n",
            " 0.         0.         0.         0.         0.         0.10604737\n",
            " 0.         0.         0.         0.         0.         0.03611044\n",
            " 0.         0.         0.         0.         0.         0.07017613\n",
            " 0.         0.         0.         0.         0.         0.\n",
            " 0.         0.         0.         0.         0.         0.\n",
            " 0.         0.         0.         0.         0.         0.\n",
            " 0.         0.         0.         0.         0.         0.\n",
            " 0.         0.         0.         0.04982922 0.         0.\n",
            " 0.         0.         0.         0.         0.         0.\n",
            " 0.         0.         0.         0.         0.         0.\n",
            " 0.         0.11023897 0.         0.         0.         0.06545721\n",
            " 0.         0.         0.         0.         0.         0.\n",
            " 0.03408949 0.         0.         0.         0.         0.04001702\n",
            " 0.         0.         0.         0.         0.         0.\n",
            " 0.         0.         0.         0.         0.         0.\n",
            " 0.         0.         0.         0.         0.         0.\n",
            " 0.04606268 0.         0.         0.         0.         0.\n",
            " 0.07341867 0.         0.         0.         0.         0.\n",
            " 0.         0.         0.         0.         0.         0.\n",
            " 0.0491474  0.         0.         0.         0.         0.\n",
            " 0.         0.         0.         0.06550137 0.         0.\n",
            " 0.         0.         0.         0.         0.         0.\n",
            " 0.         0.         0.         0.         0.03546622 0.\n",
            " 0.         0.         0.         0.         0.         0.\n",
            " 0.         0.         0.         0.         0.03089351 0.\n",
            " 0.         0.         0.         0.         0.         0.\n",
            " 0.         0.         0.17343991 0.         0.         0.\n",
            " 0.         0.         0.         0.         0.         0.\n",
            " 0.         0.         0.         0.         0.         0.\n",
            " 0.         0.         0.09877018 0.         0.         0.04004143\n",
            " 0.         0.         0.         0.         0.         0.\n",
            " 0.         0.         0.         0.         0.         0.\n",
            " 0.         0.         0.         0.         0.         0.\n",
            " 0.         0.         0.         0.         0.         0.\n",
            " 0.         0.         0.         0.         0.         0.\n",
            " 0.         0.         0.         0.         0.         0.\n",
            " 0.05541039 0.         0.         0.         0.         0.\n",
            " 0.         0.         0.         0.         0.         0.\n",
            " 0.         0.         0.         0.         0.         0.\n",
            " 0.         0.         0.         0.         0.         0.\n",
            " 0.         0.         0.         0.         0.         0.\n",
            " 0.         0.         0.         0.         0.         0.\n",
            " 0.         0.         0.         0.         0.         0.\n",
            " 0.0535989  0.         0.         0.         0.         0.\n",
            " 0.         0.         0.         0.         0.         0.\n",
            " 0.         0.         0.         0.         0.         0.\n",
            " 0.         0.         0.         0.         0.         0.06049706\n",
            " 0.         0.         0.         0.         0.04004906 0.\n",
            " 0.06602717 0.         0.         0.04937013 0.         0.\n",
            " 0.         0.         0.         0.         0.         0.\n",
            " 0.         0.         0.         0.         0.         0.\n",
            " 0.         0.         0.         0.         0.         0.\n",
            " 0.         0.07485455 0.         0.         0.06211311 0.\n",
            " 0.         0.         0.         0.         0.         0.\n",
            " 0.         0.         0.         0.         0.         0.\n",
            " 0.         0.         0.         0.         0.         0.\n",
            " 0.03478283 0.         0.         0.         0.         0.\n",
            " 0.         0.         0.         0.         0.         0.\n",
            " 0.         0.         0.         0.         0.         0.\n",
            " 0.         0.0477262  0.         0.         0.         0.\n",
            " 0.         0.         0.         0.02690371 0.         0.\n",
            " 0.         0.         0.         0.         0.         0.\n",
            " 0.         0.         0.         0.         0.         0.\n",
            " 0.         0.         0.         0.         0.         0.0396413\n",
            " 0.         0.         0.         0.         0.         0.\n",
            " 0.         0.         0.         0.         0.         0.\n",
            " 0.         0.         0.         0.         0.0592073  0.\n",
            " 0.         0.         0.         0.         0.         0.\n",
            " 0.         0.         0.         0.04191176 0.03466897 0.\n",
            " 0.         0.         0.         0.         0.03995288 0.05165534\n",
            " 0.         0.         0.         0.         0.         0.\n",
            " 0.         0.         0.         0.         0.         0.\n",
            " 0.         0.         0.         0.         0.         0.\n",
            " 0.         0.         0.03001947 0.         0.         0.\n",
            " 0.         0.         0.         0.         0.         0.\n",
            " 0.0776574  0.         0.         0.         0.         0.\n",
            " 0.         0.         0.         0.         0.         0.\n",
            " 0.         0.         0.         0.         0.         0.\n",
            " 0.         0.03519477 0.04197593 0.         0.         0.\n",
            " 0.         0.         0.         0.         0.         0.04221681\n",
            " 0.         0.         0.         0.         0.         0.\n",
            " 0.         0.         0.05788218 0.         0.         0.11126553\n",
            " 0.         0.         0.         0.         0.         0.04728844\n",
            " 0.         0.         0.         0.         0.         0.\n",
            " 0.         0.04364352 0.         0.08206969 0.         0.\n",
            " 0.         0.         0.         0.         0.         0.\n",
            " 0.         0.03294206 0.         0.         0.         0.\n",
            " 0.         0.         0.         0.         0.         0.\n",
            " 0.         0.         0.         0.         0.         0.\n",
            " 0.         0.06012602 0.         0.         0.         0.\n",
            " 0.         0.         0.         0.         0.         0.\n",
            " 0.         0.         0.         0.         0.         0.\n",
            " 0.         0.         0.         0.         0.         0.\n",
            " 0.         0.         0.         0.         0.         0.\n",
            " 0.         0.         0.         0.         0.         0.\n",
            " 0.         0.         0.         0.         0.         0.\n",
            " 0.         0.         0.         0.         0.         0.0563597\n",
            " 0.         0.0753342  0.         0.         0.         0.\n",
            " 0.07301339 0.         0.         0.         0.         0.\n",
            " 0.         0.         0.         0.         0.         0.0730818\n",
            " 0.         0.         0.         0.         0.         0.\n",
            " 0.         0.         0.         0.09265923 0.         0.\n",
            " 0.         0.         0.         0.         0.         0.\n",
            " 0.03502412 0.         0.         0.         0.         0.\n",
            " 0.         0.         0.         0.07016006 0.         0.\n",
            " 0.         0.         0.         0.         0.         0.\n",
            " 0.         0.02421226 0.         0.         0.         0.\n",
            " 0.         0.         0.         0.         0.         0.\n",
            " 0.         0.         0.         0.         0.03479587 0.\n",
            " 0.         0.04771342 0.         0.         0.         0.\n",
            " 0.         0.         0.         0.         0.         0.\n",
            " 0.         0.         0.         0.06104229 0.         0.\n",
            " 0.         0.         0.         0.         0.10550277 0.\n",
            " 0.         0.         0.         0.         0.         0.\n",
            " 0.         0.         0.         0.03386155 0.         0.\n",
            " 0.         0.         0.         0.         0.         0.\n",
            " 0.         0.         0.         0.         0.         0.\n",
            " 0.         0.         0.         0.         0.         0.\n",
            " 0.         0.         0.         0.         0.         0.\n",
            " 0.         0.         0.         0.04151745 0.         0.\n",
            " 0.         0.         0.         0.         0.         0.0779033\n",
            " 0.         0.         0.         0.         0.         0.\n",
            " 0.         0.         0.04291601 0.         0.05871584 0.\n",
            " 0.         0.         0.         0.         0.         0.\n",
            " 0.         0.         0.         0.         0.         0.\n",
            " 0.         0.         0.         0.         0.         0.\n",
            " 0.         0.         0.         0.         0.07532573 0.\n",
            " 0.         0.         0.         0.         0.05000088 0.\n",
            " 0.03061461 0.         0.         0.         0.         0.\n",
            " 0.         0.         0.         0.         0.         0.\n",
            " 0.         0.         0.         0.04534256 0.         0.\n",
            " 0.         0.         0.         0.         0.         0.\n",
            " 0.         0.04370796 0.         0.         0.         0.\n",
            " 0.         0.         0.         0.         0.         0.\n",
            " 0.         0.         0.         0.        ]\n"
          ]
        }
      ]
    },
    {
      "cell_type": "code",
      "source": [
        "def get_recommendations(movie_index, cosine_sim, top_n=5):\n",
        "    # Récupérer les similarités pour un film donné (movie_index)\n",
        "    similarity_scores = list(enumerate(cosine_sim[movie_index]))\n",
        "\n",
        "    # Trier les films par similarité décroissante (ignorer le film lui-même)\n",
        "    similarity_scores = sorted(similarity_scores, key=lambda x: x[1], reverse=True)\n",
        "\n",
        "    # Obtenir les indices des N films les plus similaires\n",
        "    movie_indices = [i[0] for i in similarity_scores[1:top_n+1]]  # Exclure le film lui-même\n",
        "\n",
        "    return movie_indices\n",
        "\n",
        "# Exemple : recommander les 5 films les plus similaires au film d'index 0\n",
        "recommended_movies = get_recommendations(0, cosine_sim, top_n=5)\n",
        "\n",
        "# Afficher les titres des films recommandés\n",
        "for idx in recommended_movies:\n",
        "    print(df['Series_Title'].iloc[idx])\n"
      ],
      "metadata": {
        "colab": {
          "base_uri": "https://localhost:8080/"
        },
        "id": "gbHbVpbDDTzP",
        "outputId": "4fe25388-97d9-459c-8cf7-4fc1d0a4772b"
      },
      "execution_count": null,
      "outputs": [
        {
          "output_type": "stream",
          "name": "stdout",
          "text": [
            "Dev.D\n",
            "Oldeuboi\n",
            "The Great Escape\n",
            "The Breakfast Club\n",
            "Fa yeung nin wah\n"
          ]
        }
      ]
    },
    {
      "cell_type": "code",
      "source": [
        "import pandas as pd\n",
        "from sklearn.metrics.pairwise import cosine_similarity\n",
        "from sklearn.feature_extraction.text import TfidfVectorizer\n",
        "\n",
        "#  df est la DataFrame contenant les films et leurs résumés (Overview)\n",
        "\n",
        "# Étape 1 : Vectorisation des résumés (Overview)\n",
        "tfidf_vectorizer = TfidfVectorizer(stop_words='english')\n",
        "tfidf_matrix = tfidf_vectorizer.fit_transform(df['Overview'])\n",
        "\n",
        "# Étape 2 : Calcul de la similarité cosinus entre tous les films\n",
        "cosine_sim = cosine_similarity(tfidf_matrix, tfidf_matrix)\n",
        "\n",
        "# Étape 3 : Fonction de recommandation basée sur un film donné\n",
        "def recommend_movie(title, cosine_sim=cosine_sim, top_n=5):\n",
        "    # Récupérer l'index du film basé sur le titre\n",
        "    idx = df[df['Series_Title'] == title].index[0]\n",
        "\n",
        "    # Récupérer les scores de similarité pour ce film\n",
        "    similarity_scores = list(enumerate(cosine_sim[idx]))\n",
        "\n",
        "    # Trier les films par similarité décroissante\n",
        "    similarity_scores = sorted(similarity_scores, key=lambda x: x[1], reverse=True)\n",
        "\n",
        "    # Sélectionner les indices des films les plus similaires (exclure le film lui-même)\n",
        "    movie_indices = [i[0] for i in similarity_scores[1:top_n+1]]\n",
        "\n",
        "    # Retourner les titres des films recommandés\n",
        "    recommended_movies = df['Series_Title'].iloc[movie_indices].values\n",
        "    return recommended_movies\n",
        "\n",
        "# Exemple : recommander les 5 films les plus similaires à \"The Shawshank Redemption\"\n",
        "recommended_movies = recommend_movie(\"The Shawshank Redemption\", cosine_sim, top_n=5)\n",
        "\n",
        "# Afficher les films recommandés\n",
        "for movie in recommended_movies:\n",
        "    print(movie)\n"
      ],
      "metadata": {
        "colab": {
          "base_uri": "https://localhost:8080/"
        },
        "id": "DZDGJotZDmrP",
        "outputId": "047a208c-a126-41e2-ebe8-8a2b731c8322"
      },
      "execution_count": null,
      "outputs": [
        {
          "output_type": "stream",
          "name": "stdout",
          "text": [
            "Dev.D\n",
            "Oldeuboi\n",
            "The Great Escape\n",
            "Fa yeung nin wah\n",
            "Koe no katachi\n"
          ]
        }
      ]
    },
    {
      "cell_type": "code",
      "source": [
        "# Fonction fictive pour générer des films recommandés\n",
        "def recommend_movie(movie_title, top_n=5):\n",
        "    # Cette fonction simule une recommandation basée sur la similarité.\n",
        "    # Remplacer cette logique par celle basée sur la similarité calculée plus tôt.\n",
        "    # Exemple de films recommandés (c'est juste un exemple, tu peux appliquer ta logique ici)\n",
        "    recommendations = {\n",
        "        \"The Shawshank Redemption\": [\"The Green Mile\", \"The Godfather\", \"Schindler's List\"],\n",
        "        \"The Godfather\": [\"The Godfather: Part II\", \"Scarface\", \"Goodfellas\"],\n",
        "        \"The Dark Knight\": [\"Inception\", \"The Prestige\", \"Joker\"],\n",
        "    }\n",
        "    return recommendations.get(movie_title, [])[:top_n]\n",
        "\n",
        "# Jeu de données de test avec des films pertinents pour chaque film testé\n",
        "test_data = {\n",
        "    \"The Shawshank Redemption\": [\"The Green Mile\", \"The Godfather\", \"Schindler's List\"],\n",
        "    \"The Godfather\": [\"The Godfather: Part II\", \"Scarface\", \"Goodfellas\"],\n",
        "    \"The Dark Knight\": [\"Inception\", \"The Prestige\", \"Joker\"],\n",
        "}\n",
        "\n",
        "# Fonction d'évaluation pour calculer la précision, le rappel et le score F1\n",
        "def evaluate_recommendations(model, test_data, top_n=5):\n",
        "    true_relevant = 0\n",
        "    total_recommended = 0\n",
        "    total_relevant = 0\n",
        "\n",
        "    # On parcourt les films de test et leurs films pertinents\n",
        "    for movie, relevant_movies in test_data.items():\n",
        "        recommended_movies = model(movie, top_n=top_n)  # Obtenir les films recommandés\n",
        "        total_relevant += len(relevant_movies)  # Nombre total de films pertinents\n",
        "\n",
        "        # Vérification des films recommandés par rapport aux films pertinents\n",
        "        for recommended_movie in recommended_movies:\n",
        "            if recommended_movie in relevant_movies:\n",
        "                true_relevant += 1\n",
        "\n",
        "        total_recommended += top_n  # Nombre total de films recommandés\n",
        "\n",
        "    # Calcul de la précision et du rappel\n",
        "    precision = true_relevant / total_recommended if total_recommended > 0 else 0\n",
        "    recall = true_relevant / total_relevant if total_relevant > 0 else 0\n",
        "    f1 = 2 * (precision * recall) / (precision + recall) if precision + recall != 0 else 0\n",
        "\n",
        "    return precision, recall, f1\n",
        "\n",
        "# Exemple d'utilisation avec le jeu de données de test\n",
        "precision, recall, f1 = evaluate_recommendations(recommend_movie, test_data)\n",
        "print(f'Précision: {precision:.4f}, Rappel: {recall:.4f}, F1-score: {f1:.4f}')\n"
      ],
      "metadata": {
        "colab": {
          "base_uri": "https://localhost:8080/"
        },
        "id": "aSzfL--pEiiz",
        "outputId": "85d1b04e-c094-4c77-cdec-94bcc138d221"
      },
      "execution_count": null,
      "outputs": [
        {
          "output_type": "stream",
          "name": "stdout",
          "text": [
            "Précision: 0.6000, Rappel: 1.0000, F1-score: 0.7500\n"
          ]
        }
      ]
    },
    {
      "cell_type": "code",
      "source": [
        "from google.colab import files\n",
        "files.download('/content/imdb_movies_cleaned.csv')\n"
      ],
      "metadata": {
        "colab": {
          "base_uri": "https://localhost:8080/",
          "height": 17
        },
        "id": "ZnZ7vtSY02Yl",
        "outputId": "a23e61b9-1f7b-4cc2-ad81-ec56f03a0940"
      },
      "execution_count": null,
      "outputs": [
        {
          "output_type": "display_data",
          "data": {
            "text/plain": [
              "<IPython.core.display.Javascript object>"
            ],
            "application/javascript": [
              "\n",
              "    async function download(id, filename, size) {\n",
              "      if (!google.colab.kernel.accessAllowed) {\n",
              "        return;\n",
              "      }\n",
              "      const div = document.createElement('div');\n",
              "      const label = document.createElement('label');\n",
              "      label.textContent = `Downloading \"${filename}\": `;\n",
              "      div.appendChild(label);\n",
              "      const progress = document.createElement('progress');\n",
              "      progress.max = size;\n",
              "      div.appendChild(progress);\n",
              "      document.body.appendChild(div);\n",
              "\n",
              "      const buffers = [];\n",
              "      let downloaded = 0;\n",
              "\n",
              "      const channel = await google.colab.kernel.comms.open(id);\n",
              "      // Send a message to notify the kernel that we're ready.\n",
              "      channel.send({})\n",
              "\n",
              "      for await (const message of channel.messages) {\n",
              "        // Send a message to notify the kernel that we're ready.\n",
              "        channel.send({})\n",
              "        if (message.buffers) {\n",
              "          for (const buffer of message.buffers) {\n",
              "            buffers.push(buffer);\n",
              "            downloaded += buffer.byteLength;\n",
              "            progress.value = downloaded;\n",
              "          }\n",
              "        }\n",
              "      }\n",
              "      const blob = new Blob(buffers, {type: 'application/binary'});\n",
              "      const a = document.createElement('a');\n",
              "      a.href = window.URL.createObjectURL(blob);\n",
              "      a.download = filename;\n",
              "      div.appendChild(a);\n",
              "      a.click();\n",
              "      div.remove();\n",
              "    }\n",
              "  "
            ]
          },
          "metadata": {}
        },
        {
          "output_type": "display_data",
          "data": {
            "text/plain": [
              "<IPython.core.display.Javascript object>"
            ],
            "application/javascript": [
              "download(\"download_a6ee415d-b431-4fc5-b501-858e01cb759d\", \"imdb_movies_cleaned.csv\", 233051)"
            ]
          },
          "metadata": {}
        }
      ]
    }
  ]
}